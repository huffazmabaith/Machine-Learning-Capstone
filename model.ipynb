{
 "cells": [
  {
   "cell_type": "code",
   "execution_count": 1,
   "metadata": {},
   "outputs": [],
   "source": [
    "import pandas as pd\n",
    "import tensorflow as tf\n",
    "from tensorflow.keras.layers import TextVectorization\n",
    "from flask import Flask, request, jsonify\n",
    "from sklearn.metrics.pairwise import cosine_similarity\n",
    "\n",
    "# Memuat data\n",
    "data = pd.read_excel('data.xlsx')\n",
    "data = data[['Place_Id', 'Place_Name', 'Description', 'Category', 'City', 'Price', 'Rating']]"
   ]
  },
  {
   "cell_type": "code",
   "execution_count": 2,
   "metadata": {},
   "outputs": [],
   "source": [
    "# Fungsi preprocessing teks\n",
    "def preprocess_text(text):\n",
    "    text = tf.strings.regex_replace(text, \"[^a-zA-Z0-9 ]\", \"\")\n",
    "    text = tf.strings.lower(text)\n",
    "    return text"
   ]
  },
  {
   "cell_type": "code",
   "execution_count": 3,
   "metadata": {},
   "outputs": [],
   "source": [
    "# Vektorisasi fitur teks\n",
    "description_vectorizer = TextVectorization(output_mode='tf_idf', ngrams=2)\n",
    "category_vectorizer = TextVectorization(output_mode='int', output_sequence_length=1)\n",
    "city_vectorizer = TextVectorization(output_mode='int', output_sequence_length=1)\n",
    "\n",
    "description_ds = tf.data.Dataset.from_tensor_slices(data['Description'].astype(str).values).map(preprocess_text)\n",
    "category_ds = tf.data.Dataset.from_tensor_slices(data['Category'].astype(str).values)\n",
    "city_ds = tf.data.Dataset.from_tensor_slices(data['City'].astype(str).values)\n",
    "\n",
    "description_vectorizer.adapt(description_ds)\n",
    "category_vectorizer.adapt(category_ds)\n",
    "city_vectorizer.adapt(city_ds)\n",
    "\n",
    "description_vectorized = tf.cast(description_vectorizer(tf.constant(data['Description'].astype(str).values)), tf.float32)\n",
    "category_vectorized = tf.cast(category_vectorizer(tf.constant(data['Category'].astype(str).values)), tf.float32)\n",
    "city_vectorized = tf.cast(city_vectorizer(tf.constant(data['City'].astype(str).values)), tf.float32)\n",
    "\n",
    "price = tf.expand_dims(tf.constant(data['Price'].values, dtype=tf.float32), -1)\n",
    "rating = tf.expand_dims(tf.constant(data['Rating'].values, dtype=tf.float32), -1)\n",
    "\n",
    "features = tf.concat([description_vectorized, category_vectorized, city_vectorized, price, rating], axis=1)\n"
   ]
  },
  {
   "cell_type": "code",
   "execution_count": 4,
   "metadata": {},
   "outputs": [],
   "source": [
    "input_dim = features.shape[1]\n",
    "model = tf.keras.Sequential([\n",
    "    tf.keras.layers.Input(shape=(input_dim,)),\n",
    "    tf.keras.layers.Dense(128, activation='relu'),\n",
    "    tf.keras.layers.Dense(64, activation='relu'),\n",
    "    tf.keras.layers.Dense(32, activation='relu'),\n",
    "    tf.keras.layers.Dense(16, activation='relu', name='embedding')\n",
    "])\n",
    "\n",
    "model.compile(optimizer='adam', loss='mse')"
   ]
  },
  {
   "cell_type": "code",
   "execution_count": 5,
   "metadata": {},
   "outputs": [
    {
     "name": "stdout",
     "output_type": "stream",
     "text": [
      "\u001b[1m3/3\u001b[0m \u001b[32m━━━━━━━━━━━━━━━━━━━━\u001b[0m\u001b[37m\u001b[0m \u001b[1m0s\u001b[0m 32ms/step\n"
     ]
    }
   ],
   "source": [
    "embeddings = model.predict(features)\n",
    "\n",
    "similarity_matrix = cosine_similarity(embeddings)\n",
    "\n",
    "\n",
    "def recommend(place_id, top_k=5):\n",
    "    place_index = data[data['Place_Id'] == place_id].index[0]\n",
    "    similarity_scores = list(enumerate(similarity_matrix[place_index]))\n",
    "    similarity_scores = sorted(similarity_scores, key=lambda x: x[1], reverse=True)\n",
    "    similar_indices = [i[0] for i in similarity_scores[1:top_k+1]]\n",
    "    similar_places = data.iloc[similar_indices]['Place_Name'].tolist()\n",
    "    return similar_places"
   ]
  },
  {
   "cell_type": "code",
   "execution_count": 6,
   "metadata": {},
   "outputs": [
    {
     "data": {
      "text/plain": [
       "['Candi Muara Takus',\n",
       " 'Rahmat Zoo and Park',\n",
       " 'Graha Maria Annai Velangkanni',\n",
       " 'Ulu Kasok',\n",
       " 'Barelang Bridge Batam']"
      ]
     },
     "execution_count": 6,
     "metadata": {},
     "output_type": "execute_result"
    }
   ],
   "source": [
    "recommend(1)"
   ]
  }
 ],
 "metadata": {
  "kernelspec": {
   "display_name": "Python 3",
   "language": "python",
   "name": "python3"
  },
  "language_info": {
   "codemirror_mode": {
    "name": "ipython",
    "version": 3
   },
   "file_extension": ".py",
   "mimetype": "text/x-python",
   "name": "python",
   "nbconvert_exporter": "python",
   "pygments_lexer": "ipython3",
   "version": "3.11.0"
  }
 },
 "nbformat": 4,
 "nbformat_minor": 2
}
